{
 "cells": [
  {
   "cell_type": "code",
   "execution_count": 2,
   "metadata": {},
   "outputs": [],
   "source": [
    "import pandas as pandas\n",
    "import matplotlib.pyplot as plt\n",
    "\n",
    "from sklearn.datasets import load_breast_cancer\n",
    "from sklearn.model_selection import train_test_split\n",
    "from sklearn.linear_model import LogisticRegression\n",
    "from sklearn.preprocessing import StandardScaler\n",
    "\n",
    "dataset = load_breast_cancer()\n",
    "\n",
    "scaler = StandardScaler()\n",
    "dataset_scaled = scaler.fit_transform(dataset.data)\n",
    "\n",
    "X_train , X_test , y_train , y_test = train_test_split(dataset_scaled, dataset.target , test_size=0.3 , random_state=0)\n"
   ]
  },
  {
   "cell_type": "code",
   "execution_count": 3,
   "metadata": {},
   "outputs": [
    {
     "name": "stdout",
     "output_type": "stream",
     "text": [
      "accuracy : 0.9766081871345029, roc_auc : 0.9715608465608465\n"
     ]
    }
   ],
   "source": [
    "from sklearn.metrics import accuracy_score, roc_auc_score\n",
    "\n",
    "lr_clf = LogisticRegression()\n",
    "lr_clf.fit(X_train, y_train)\n",
    "lr_preds = lr_clf.predict(X_test)\n",
    "lr_preds_proba = lr_clf.predict_log_proba(X_test)[:,1]\n",
    "\n",
    "print(f'accuracy : {accuracy_score(y_test, lr_preds)}, roc_auc : {roc_auc_score(y_test, lr_preds)}')"
   ]
  },
  {
   "cell_type": "code",
   "execution_count": 4,
   "metadata": {},
   "outputs": [
    {
     "name": "stdout",
     "output_type": "stream",
     "text": [
      "solver lbfgs :: accucacy : 0.9766081871345029, roc_acu : 0.9715608465608465\n",
      "solver liblinear :: accucacy : 0.9824561403508771, roc_acu : 0.9794973544973544\n",
      "solver newton-cg :: accucacy : 0.9766081871345029, roc_acu : 0.9715608465608465\n",
      "solver sag :: accucacy : 0.9824561403508771, roc_acu : 0.9794973544973544\n",
      "solver saga :: accucacy : 0.9824561403508771, roc_acu : 0.9794973544973544\n"
     ]
    }
   ],
   "source": [
    "solvers = ['lbfgs', 'liblinear', 'newton-cg', 'sag', 'saga']\n",
    "\n",
    "for solver in solvers: \n",
    "    lr_clf = LogisticRegression(solver=solver, max_iter=600)\n",
    "    lr_clf.fit(X_train, y_train)\n",
    "    lr_preds = lr_clf.predict(X_test)\n",
    "    lr_preds_proba = lr_clf.predict_log_proba(X_test)[:, 1]\n",
    "\n",
    "    print(f'solver {solver} :: accucacy : {accuracy_score(y_test, lr_preds)}, roc_acu : {roc_auc_score(y_test, lr_preds)}')"
   ]
  },
  {
   "cell_type": "code",
   "execution_count": null,
   "metadata": {},
   "outputs": [],
   "source": []
  }
 ],
 "metadata": {
  "kernelspec": {
   "display_name": "xgboost_env",
   "language": "python",
   "name": "python3"
  },
  "language_info": {
   "codemirror_mode": {
    "name": "ipython",
    "version": 3
   },
   "file_extension": ".py",
   "mimetype": "text/x-python",
   "name": "python",
   "nbconvert_exporter": "python",
   "pygments_lexer": "ipython3",
   "version": "3.9.21"
  }
 },
 "nbformat": 4,
 "nbformat_minor": 2
}
